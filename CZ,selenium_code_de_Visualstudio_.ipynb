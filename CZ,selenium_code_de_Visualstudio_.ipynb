{
  "nbformat": 4,
  "nbformat_minor": 0,
  "metadata": {
    "colab": {
      "provenance": []
    },
    "kernelspec": {
      "name": "python3",
      "display_name": "Python 3"
    },
    "language_info": {
      "name": "python"
    }
  },
  "cells": [
    {
      "cell_type": "code",
      "source": [
        "import os\n",
        "print('Get current working directory : ', os.getcwd())\n",
        "os.chdir('c:\\\\Users\\\\celine\\\\Desktop')\n",
        "data = pd.read_csv('all_games.csv')\n",
        "data.columns"
      ],
      "metadata": {
        "id": "fkUcxwuyO1ba"
      },
      "execution_count": null,
      "outputs": []
    },
    {
      "cell_type": "code",
      "execution_count": null,
      "metadata": {
        "id": "OF18d6gmOjsq"
      },
      "outputs": [],
      "source": [
        "from selenium import webdriver \n",
        "from webdriver_manager.chrome import ChromeDriverManager\n",
        "from selenium.webdriver.common.by import By\n",
        "from selenium.webdriver.chrome.options import Options\n",
        "from selenium.webdriver.common.keys import Keys\n",
        "from selenium.webdriver.common.action_chains import ActionChains\n",
        "from tqdm import tqdm\n",
        "from time import sleep"
      ]
    },
    {
      "cell_type": "code",
      "source": [
        "from selenium import webdriver\n",
        "profile = webdriver.FirefoxProfile()\n",
        "profile.set_preference(\"general.useragent.override\", \"Mozilla/5.0 (Windows NT 10.0; Win64; x64) AppleWebKit/537.36 (KHTML, like Gecko) Chrome/107.0.0.0 Safari/537.36\")\n",
        "driver = webdriver.Firefox(profile)\n",
        "driver.get('https://www.jeuxvideo.com/jeux/jeu-1571827/')\n",
        "button = driver.find_elements(By.CSS_SELECTOR, \"button\")\n",
        "button[1].click()\n",
        "\n",
        "def close_interstitial():\n",
        "    try:\n",
        "        driver.find_element(By.CLASS_NAME,'interstitial-top-close').click()\n",
        "    except Exception:\n",
        "        sleep(10)     \n",
        "\n",
        "    \n",
        "for i, row in tqdm(data.iterrows(), total=len(data)):\n",
        "    if not pd.isnull(row.Classification):\n",
        "        continue\n",
        "    try:\n",
        "        driver.find_element(By.CLASS_NAME,'icon-search').click()\n",
        "    except Exception:\n",
        "        sleep(5)\n",
        "        close_interstitial()\n",
        "        driver.find_element(By.CLASS_NAME,'icon-search').click()    \n",
        "    barre=driver.find_element(By.NAME,'q')\n",
        "    barre.clear()\n",
        "    barre.send_keys(row['name'])\n",
        "    barre.send_keys(Keys.ENTER)\n",
        "    sleep(3)\n",
        "    try: \n",
        "        driver.find_element(By.CSS_SELECTOR, '.dfpFooter__button').click()\n",
        "    except Exception:\n",
        "        pass \n",
        "    \n",
        "    try:    \n",
        "        driver.find_element(By.CSS_SELECTOR, 'a.card__link').click()\n",
        "    except Exception:\n",
        "        try:\n",
        "            sleep(5) \n",
        "            close_interstitial()   \n",
        "            driver.find_element(By.CSS_SELECTOR, 'a.card__link').click()\n",
        "        except Exception:\n",
        "            continue\n",
        "    sleep(3)    \n",
        "    try:\n",
        "        classification=(driver.find_element(By.XPATH, \"//span[contains(text(), ' ans')]\")).text\n",
        "    except Exception:\n",
        "        classification='NA'\n",
        "    #print(classification)\n",
        "    data.loc[i,\"Classification\"]=classification\n",
        "driver.close()"
      ],
      "metadata": {
        "id": "b59BwVEiOmmK"
      },
      "execution_count": null,
      "outputs": []
    },
    {
      "cell_type": "code",
      "source": [
        "data.to_csv('all_games.csv', sep = ',') "
      ],
      "metadata": {
        "id": "SlDVRGIeOvZW"
      },
      "execution_count": null,
      "outputs": []
    }
  ]
}