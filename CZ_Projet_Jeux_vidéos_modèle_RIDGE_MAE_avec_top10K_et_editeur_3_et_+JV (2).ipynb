{
  "nbformat": 4,
  "nbformat_minor": 0,
  "metadata": {
    "colab": {
      "provenance": []
    },
    "kernelspec": {
      "name": "python3",
      "display_name": "Python 3"
    },
    "language_info": {
      "name": "python"
    }
  },
  "cells": [
    {
      "cell_type": "markdown",
      "source": [
        "Modelisation avec RIDGE du dataset : \"dataset_jeux_par_item V2\" top 10K et avec les éditeurs de 3 ou plus jeux vidéos."
      ],
      "metadata": {
        "id": "Z0mTNWDhxV9U"
      }
    },
    {
      "cell_type": "code",
      "execution_count": null,
      "metadata": {
        "id": "Fq5kn2hYFAOv"
      },
      "outputs": [],
      "source": [
        "#Librairies de base \n",
        "import pandas as pd \n",
        "import numpy as np \n",
        "import seaborn as sns\n",
        "import matplotlib.pyplot as plt"
      ]
    },
    {
      "cell_type": "code",
      "source": [
        "#lecture du dataset \n",
        "df=pd.read_csv(\"dataset_jeux_par_item V2.csv\")\n",
        "df.head(10)"
      ],
      "metadata": {
        "colab": {
          "base_uri": "https://localhost:8080/",
          "height": 786
        },
        "id": "9jJxVKLBFCYC",
        "outputId": "2ed0ccd9-458a-4fd6-f936-e47b13d5d95c"
      },
      "execution_count": null,
      "outputs": [
        {
          "output_type": "execute_result",
          "data": {
            "text/plain": [
              "                                  jeu         Genre     nom_plateforme  \\\n",
              "0                          Wii Sports        Sports                Wii   \n",
              "1                 Mario Kart 8 Deluxe        Racing    Nintendo Switch   \n",
              "2                   Super Mario Bros.      Platform     Nintendo (NES)   \n",
              "3       Animal Crossing: New Horizons    Simulation    Nintendo Switch   \n",
              "4    Counter-Strike: Global Offensive       Shooter  Microsoft Windows   \n",
              "5                      Mario Kart Wii        Racing                Wii   \n",
              "6       PLAYERUNKNOWN'S BATTLEGROUNDS       Shooter  Microsoft Windows   \n",
              "7                           Minecraft          Misc  Microsoft Windows   \n",
              "8                   Wii Sports Resort        Sports                Wii   \n",
              "9  Pokemon Red / Green / Blue Version  Role-Playing           Game Boy   \n",
              "\n",
              "  nom_fabricant           editeur       developpeur   annee  ttl_sales  \\\n",
              "0      Nintendo          Nintendo          NINTENDO  2006.0      82.90   \n",
              "1      Nintendo          Nintendo          NINTENDO  2017.0      48.41   \n",
              "2      Nintendo          Nintendo          NINTENDO  1985.0      40.24   \n",
              "3      Nintendo          Nintendo          NINTENDO  2020.0      40.17   \n",
              "4            PC             Valve             VALVE  2012.0      40.00   \n",
              "5      Nintendo          Nintendo          NINTENDO  2008.0      37.38   \n",
              "6            PC  PUBG Corporation  PUBG CORPORATION  2017.0      36.60   \n",
              "7            PC            Mojang            MOJANG  2010.0      33.15   \n",
              "8      Nintendo          Nintendo          NINTENDO  2009.0      33.14   \n",
              "9      Nintendo          Nintendo        GAME FREAK  1998.0      31.38   \n",
              "\n",
              "     dev_country                                 metacritic_summary  ...  \\\n",
              "0          Japan  Tennis (1-4 players): Players grab the control...  ...   \n",
              "1          Japan  Race and battle your friends in the definitive...  ...   \n",
              "2          Japan                                                NaN  ...   \n",
              "3          Japan  If the hustle and bustle of modern life’s got ...  ...   \n",
              "4  United States  Counter-Strike: Global Offensive features new ...  ...   \n",
              "5          Japan  Mario Kart Wii comes with the intuitive Wii Wh...  ...   \n",
              "6        Unknown                                                NaN  ...   \n",
              "7         Sweden  The game involves players creating and destroy...  ...   \n",
              "8          Japan  Wii Sports Resort is a collection of fun sport...  ...   \n",
              "9          Japan                                                NaN  ...   \n",
              "\n",
              "                      igdb_age_rating_category  \\\n",
              "0  ESRB, PEGI, CLASS_IND, CERO, USK, GRAC, ACB   \n",
              "1  ESRB, PEGI, USK, CLASS_IND, CERO, GRAC, ACB   \n",
              "2  ESRB, PEGI, CLASS_IND, CERO, USK, GRAC, ACB   \n",
              "3                        ESRB, PEGI, USK, CERO   \n",
              "4              ESRB, PEGI, USK, CLASS_IND, ACB   \n",
              "5             ESRB, PEGI, CLASS_IND, CERO, ACB   \n",
              "6                                          NaN   \n",
              "7  ESRB, PEGI, CERO, USK, CLASS_IND, ACB, GRAC   \n",
              "8  ESRB, PEGI, CLASS_IND, CERO, USK, ACB, GRAC   \n",
              "9                                          NaN   \n",
              "\n",
              "                               igdb_age_rating_class  \\\n",
              "0  ESRB_E, PEGI_7, CLASS_IND_10, CERO_B, USK_12, ...   \n",
              "1  ESRB_E, PEGI_3, USK_0, CLASS_IND_10, CERO_A, G...   \n",
              "2  ESRB_E, PEGI_3, CLASS_IND_10, CERO_A, USK_0, G...   \n",
              "3                      ESRB_E, PEGI_3, USK_0, CERO_A   \n",
              "4     ESRB_M, PEGI_18, USK_18, CLASS_IND_16, ACB_R18   \n",
              "5       ESRB_E, PEGI_3, CLASS_IND_10, CERO_A, ACB_PG   \n",
              "6                                                NaN   \n",
              "7  ESRB_E10, PEGI_7, CERO_A, USK_6, CLASS_IND_10,...   \n",
              "8  ESRB_E, PEGI_7, CLASS_IND_10, CERO_B, USK_12, ...   \n",
              "9                                                NaN   \n",
              "\n",
              "                            igdb_developer_name    igdb_developer_country  \\\n",
              "0  Nintendo EAD Software Development Group No.2                     Japan   \n",
              "1                                  Nintendo EPD                     Japan   \n",
              "2         Nintendo, Nintendo EAD, Nintendo R&D4                     Japan   \n",
              "3                        Nintendo EPD, Nintendo                     Japan   \n",
              "4              Hidden Path Entertainment, Valve  United States of America   \n",
              "5                        Nintendo, Nintendo EAD                     Japan   \n",
              "6                                           NaN                       NaN   \n",
              "7                                Mojang Studios                    Sweden   \n",
              "8  Nintendo EAD Software Development Group No.2                     Japan   \n",
              "9                                           NaN                       NaN   \n",
              "\n",
              "                       igdb_publisher_name             igdb_publisher_country  \\\n",
              "0                                 Nintendo                              Japan   \n",
              "1  Nintendo of America, Nintendo of Europe  United States of America, Germany   \n",
              "2                                 Nintendo                              Japan   \n",
              "3                                 Nintendo                              Japan   \n",
              "4                                    Valve           United States of America   \n",
              "5                                 Nintendo                              Japan   \n",
              "6                                      NaN                                NaN   \n",
              "7                           Mojang Studios                             Sweden   \n",
              "8                                 Nintendo                              Japan   \n",
              "9                                      NaN                                NaN   \n",
              "\n",
              "                              igdb_websites_category  \\\n",
              "0                 official, wikipedia, wikia, twitch   \n",
              "1         wikia, wikipedia, official, twitch, reddit   \n",
              "2  wikipedia, wikia, twitch, youtube, facebook, t...   \n",
              "3  official, wikia, wikipedia, twitter, reddit, d...   \n",
              "4  official, wikia, wikipedia, facebook, youtube,...   \n",
              "5                 wikipedia, wikia, official, twitch   \n",
              "6                                                NaN   \n",
              "7  official, wikipedia, facebook, twitter, youtub...   \n",
              "8                 official, wikipedia, wikia, twitch   \n",
              "9                                                NaN   \n",
              "\n",
              "                                   igdb_websites_url    twitch_id  \\\n",
              "0  http://wiisports.nintendo.com/, https://en.wik...      12232.0   \n",
              "1  https://www.mariowiki.com/Mario_Kart_8_Deluxe,...  941530474.0   \n",
              "2  https://en.wikipedia.org/wiki/List_of_Game_%26...     509508.0   \n",
              "3  https://www.nintendo.com/games/detail/animal-c...     509538.0   \n",
              "4  http://blog.counter-strike.net/, http://counte...      32399.0   \n",
              "5  https://en.wikipedia.org/wiki/Mario_Kart_Wii, ...      18871.0   \n",
              "6                                                NaN          NaN   \n",
              "7  https://minecraft.net/, https://en.wikipedia.o...      27471.0   \n",
              "8  http://www.wiisportsresort.com/, https://en.wi...      19259.0   \n",
              "9                                                NaN          NaN   \n",
              "\n",
              "   twitch_streams_count  \n",
              "0                   1.0  \n",
              "1                 670.0  \n",
              "2                  13.0  \n",
              "3                1655.0  \n",
              "4               24977.0  \n",
              "5                 193.0  \n",
              "6                   NaN  \n",
              "7               49502.0  \n",
              "8                   7.0  \n",
              "9                   NaN  \n",
              "\n",
              "[10 rows x 40 columns]"
            ],
            "text/html": [
              "\n",
              "  <div id=\"df-6c558296-f97b-4423-a322-cd8e1b5309cd\">\n",
              "    <div class=\"colab-df-container\">\n",
              "      <div>\n",
              "<style scoped>\n",
              "    .dataframe tbody tr th:only-of-type {\n",
              "        vertical-align: middle;\n",
              "    }\n",
              "\n",
              "    .dataframe tbody tr th {\n",
              "        vertical-align: top;\n",
              "    }\n",
              "\n",
              "    .dataframe thead th {\n",
              "        text-align: right;\n",
              "    }\n",
              "</style>\n",
              "<table border=\"1\" class=\"dataframe\">\n",
              "  <thead>\n",
              "    <tr style=\"text-align: right;\">\n",
              "      <th></th>\n",
              "      <th>jeu</th>\n",
              "      <th>Genre</th>\n",
              "      <th>nom_plateforme</th>\n",
              "      <th>nom_fabricant</th>\n",
              "      <th>editeur</th>\n",
              "      <th>developpeur</th>\n",
              "      <th>annee</th>\n",
              "      <th>ttl_sales</th>\n",
              "      <th>dev_country</th>\n",
              "      <th>metacritic_summary</th>\n",
              "      <th>...</th>\n",
              "      <th>igdb_age_rating_category</th>\n",
              "      <th>igdb_age_rating_class</th>\n",
              "      <th>igdb_developer_name</th>\n",
              "      <th>igdb_developer_country</th>\n",
              "      <th>igdb_publisher_name</th>\n",
              "      <th>igdb_publisher_country</th>\n",
              "      <th>igdb_websites_category</th>\n",
              "      <th>igdb_websites_url</th>\n",
              "      <th>twitch_id</th>\n",
              "      <th>twitch_streams_count</th>\n",
              "    </tr>\n",
              "  </thead>\n",
              "  <tbody>\n",
              "    <tr>\n",
              "      <th>0</th>\n",
              "      <td>Wii Sports</td>\n",
              "      <td>Sports</td>\n",
              "      <td>Wii</td>\n",
              "      <td>Nintendo</td>\n",
              "      <td>Nintendo</td>\n",
              "      <td>NINTENDO</td>\n",
              "      <td>2006.0</td>\n",
              "      <td>82.90</td>\n",
              "      <td>Japan</td>\n",
              "      <td>Tennis (1-4 players): Players grab the control...</td>\n",
              "      <td>...</td>\n",
              "      <td>ESRB, PEGI, CLASS_IND, CERO, USK, GRAC, ACB</td>\n",
              "      <td>ESRB_E, PEGI_7, CLASS_IND_10, CERO_B, USK_12, ...</td>\n",
              "      <td>Nintendo EAD Software Development Group No.2</td>\n",
              "      <td>Japan</td>\n",
              "      <td>Nintendo</td>\n",
              "      <td>Japan</td>\n",
              "      <td>official, wikipedia, wikia, twitch</td>\n",
              "      <td>http://wiisports.nintendo.com/, https://en.wik...</td>\n",
              "      <td>12232.0</td>\n",
              "      <td>1.0</td>\n",
              "    </tr>\n",
              "    <tr>\n",
              "      <th>1</th>\n",
              "      <td>Mario Kart 8 Deluxe</td>\n",
              "      <td>Racing</td>\n",
              "      <td>Nintendo Switch</td>\n",
              "      <td>Nintendo</td>\n",
              "      <td>Nintendo</td>\n",
              "      <td>NINTENDO</td>\n",
              "      <td>2017.0</td>\n",
              "      <td>48.41</td>\n",
              "      <td>Japan</td>\n",
              "      <td>Race and battle your friends in the definitive...</td>\n",
              "      <td>...</td>\n",
              "      <td>ESRB, PEGI, USK, CLASS_IND, CERO, GRAC, ACB</td>\n",
              "      <td>ESRB_E, PEGI_3, USK_0, CLASS_IND_10, CERO_A, G...</td>\n",
              "      <td>Nintendo EPD</td>\n",
              "      <td>Japan</td>\n",
              "      <td>Nintendo of America, Nintendo of Europe</td>\n",
              "      <td>United States of America, Germany</td>\n",
              "      <td>wikia, wikipedia, official, twitch, reddit</td>\n",
              "      <td>https://www.mariowiki.com/Mario_Kart_8_Deluxe,...</td>\n",
              "      <td>941530474.0</td>\n",
              "      <td>670.0</td>\n",
              "    </tr>\n",
              "    <tr>\n",
              "      <th>2</th>\n",
              "      <td>Super Mario Bros.</td>\n",
              "      <td>Platform</td>\n",
              "      <td>Nintendo (NES)</td>\n",
              "      <td>Nintendo</td>\n",
              "      <td>Nintendo</td>\n",
              "      <td>NINTENDO</td>\n",
              "      <td>1985.0</td>\n",
              "      <td>40.24</td>\n",
              "      <td>Japan</td>\n",
              "      <td>NaN</td>\n",
              "      <td>...</td>\n",
              "      <td>ESRB, PEGI, CLASS_IND, CERO, USK, GRAC, ACB</td>\n",
              "      <td>ESRB_E, PEGI_3, CLASS_IND_10, CERO_A, USK_0, G...</td>\n",
              "      <td>Nintendo, Nintendo EAD, Nintendo R&amp;D4</td>\n",
              "      <td>Japan</td>\n",
              "      <td>Nintendo</td>\n",
              "      <td>Japan</td>\n",
              "      <td>wikipedia, wikia, twitch, youtube, facebook, t...</td>\n",
              "      <td>https://en.wikipedia.org/wiki/List_of_Game_%26...</td>\n",
              "      <td>509508.0</td>\n",
              "      <td>13.0</td>\n",
              "    </tr>\n",
              "    <tr>\n",
              "      <th>3</th>\n",
              "      <td>Animal Crossing: New Horizons</td>\n",
              "      <td>Simulation</td>\n",
              "      <td>Nintendo Switch</td>\n",
              "      <td>Nintendo</td>\n",
              "      <td>Nintendo</td>\n",
              "      <td>NINTENDO</td>\n",
              "      <td>2020.0</td>\n",
              "      <td>40.17</td>\n",
              "      <td>Japan</td>\n",
              "      <td>If the hustle and bustle of modern life’s got ...</td>\n",
              "      <td>...</td>\n",
              "      <td>ESRB, PEGI, USK, CERO</td>\n",
              "      <td>ESRB_E, PEGI_3, USK_0, CERO_A</td>\n",
              "      <td>Nintendo EPD, Nintendo</td>\n",
              "      <td>Japan</td>\n",
              "      <td>Nintendo</td>\n",
              "      <td>Japan</td>\n",
              "      <td>official, wikia, wikipedia, twitter, reddit, d...</td>\n",
              "      <td>https://www.nintendo.com/games/detail/animal-c...</td>\n",
              "      <td>509538.0</td>\n",
              "      <td>1655.0</td>\n",
              "    </tr>\n",
              "    <tr>\n",
              "      <th>4</th>\n",
              "      <td>Counter-Strike: Global Offensive</td>\n",
              "      <td>Shooter</td>\n",
              "      <td>Microsoft Windows</td>\n",
              "      <td>PC</td>\n",
              "      <td>Valve</td>\n",
              "      <td>VALVE</td>\n",
              "      <td>2012.0</td>\n",
              "      <td>40.00</td>\n",
              "      <td>United States</td>\n",
              "      <td>Counter-Strike: Global Offensive features new ...</td>\n",
              "      <td>...</td>\n",
              "      <td>ESRB, PEGI, USK, CLASS_IND, ACB</td>\n",
              "      <td>ESRB_M, PEGI_18, USK_18, CLASS_IND_16, ACB_R18</td>\n",
              "      <td>Hidden Path Entertainment, Valve</td>\n",
              "      <td>United States of America</td>\n",
              "      <td>Valve</td>\n",
              "      <td>United States of America</td>\n",
              "      <td>official, wikia, wikipedia, facebook, youtube,...</td>\n",
              "      <td>http://blog.counter-strike.net/, http://counte...</td>\n",
              "      <td>32399.0</td>\n",
              "      <td>24977.0</td>\n",
              "    </tr>\n",
              "    <tr>\n",
              "      <th>5</th>\n",
              "      <td>Mario Kart Wii</td>\n",
              "      <td>Racing</td>\n",
              "      <td>Wii</td>\n",
              "      <td>Nintendo</td>\n",
              "      <td>Nintendo</td>\n",
              "      <td>NINTENDO</td>\n",
              "      <td>2008.0</td>\n",
              "      <td>37.38</td>\n",
              "      <td>Japan</td>\n",
              "      <td>Mario Kart Wii comes with the intuitive Wii Wh...</td>\n",
              "      <td>...</td>\n",
              "      <td>ESRB, PEGI, CLASS_IND, CERO, ACB</td>\n",
              "      <td>ESRB_E, PEGI_3, CLASS_IND_10, CERO_A, ACB_PG</td>\n",
              "      <td>Nintendo, Nintendo EAD</td>\n",
              "      <td>Japan</td>\n",
              "      <td>Nintendo</td>\n",
              "      <td>Japan</td>\n",
              "      <td>wikipedia, wikia, official, twitch</td>\n",
              "      <td>https://en.wikipedia.org/wiki/Mario_Kart_Wii, ...</td>\n",
              "      <td>18871.0</td>\n",
              "      <td>193.0</td>\n",
              "    </tr>\n",
              "    <tr>\n",
              "      <th>6</th>\n",
              "      <td>PLAYERUNKNOWN'S BATTLEGROUNDS</td>\n",
              "      <td>Shooter</td>\n",
              "      <td>Microsoft Windows</td>\n",
              "      <td>PC</td>\n",
              "      <td>PUBG Corporation</td>\n",
              "      <td>PUBG CORPORATION</td>\n",
              "      <td>2017.0</td>\n",
              "      <td>36.60</td>\n",
              "      <td>Unknown</td>\n",
              "      <td>NaN</td>\n",
              "      <td>...</td>\n",
              "      <td>NaN</td>\n",
              "      <td>NaN</td>\n",
              "      <td>NaN</td>\n",
              "      <td>NaN</td>\n",
              "      <td>NaN</td>\n",
              "      <td>NaN</td>\n",
              "      <td>NaN</td>\n",
              "      <td>NaN</td>\n",
              "      <td>NaN</td>\n",
              "      <td>NaN</td>\n",
              "    </tr>\n",
              "    <tr>\n",
              "      <th>7</th>\n",
              "      <td>Minecraft</td>\n",
              "      <td>Misc</td>\n",
              "      <td>Microsoft Windows</td>\n",
              "      <td>PC</td>\n",
              "      <td>Mojang</td>\n",
              "      <td>MOJANG</td>\n",
              "      <td>2010.0</td>\n",
              "      <td>33.15</td>\n",
              "      <td>Sweden</td>\n",
              "      <td>The game involves players creating and destroy...</td>\n",
              "      <td>...</td>\n",
              "      <td>ESRB, PEGI, CERO, USK, CLASS_IND, ACB, GRAC</td>\n",
              "      <td>ESRB_E10, PEGI_7, CERO_A, USK_6, CLASS_IND_10,...</td>\n",
              "      <td>Mojang Studios</td>\n",
              "      <td>Sweden</td>\n",
              "      <td>Mojang Studios</td>\n",
              "      <td>Sweden</td>\n",
              "      <td>official, wikipedia, facebook, twitter, youtub...</td>\n",
              "      <td>https://minecraft.net/, https://en.wikipedia.o...</td>\n",
              "      <td>27471.0</td>\n",
              "      <td>49502.0</td>\n",
              "    </tr>\n",
              "    <tr>\n",
              "      <th>8</th>\n",
              "      <td>Wii Sports Resort</td>\n",
              "      <td>Sports</td>\n",
              "      <td>Wii</td>\n",
              "      <td>Nintendo</td>\n",
              "      <td>Nintendo</td>\n",
              "      <td>NINTENDO</td>\n",
              "      <td>2009.0</td>\n",
              "      <td>33.14</td>\n",
              "      <td>Japan</td>\n",
              "      <td>Wii Sports Resort is a collection of fun sport...</td>\n",
              "      <td>...</td>\n",
              "      <td>ESRB, PEGI, CLASS_IND, CERO, USK, ACB, GRAC</td>\n",
              "      <td>ESRB_E, PEGI_7, CLASS_IND_10, CERO_B, USK_12, ...</td>\n",
              "      <td>Nintendo EAD Software Development Group No.2</td>\n",
              "      <td>Japan</td>\n",
              "      <td>Nintendo</td>\n",
              "      <td>Japan</td>\n",
              "      <td>official, wikipedia, wikia, twitch</td>\n",
              "      <td>http://www.wiisportsresort.com/, https://en.wi...</td>\n",
              "      <td>19259.0</td>\n",
              "      <td>7.0</td>\n",
              "    </tr>\n",
              "    <tr>\n",
              "      <th>9</th>\n",
              "      <td>Pokemon Red / Green / Blue Version</td>\n",
              "      <td>Role-Playing</td>\n",
              "      <td>Game Boy</td>\n",
              "      <td>Nintendo</td>\n",
              "      <td>Nintendo</td>\n",
              "      <td>GAME FREAK</td>\n",
              "      <td>1998.0</td>\n",
              "      <td>31.38</td>\n",
              "      <td>Japan</td>\n",
              "      <td>NaN</td>\n",
              "      <td>...</td>\n",
              "      <td>NaN</td>\n",
              "      <td>NaN</td>\n",
              "      <td>NaN</td>\n",
              "      <td>NaN</td>\n",
              "      <td>NaN</td>\n",
              "      <td>NaN</td>\n",
              "      <td>NaN</td>\n",
              "      <td>NaN</td>\n",
              "      <td>NaN</td>\n",
              "      <td>NaN</td>\n",
              "    </tr>\n",
              "  </tbody>\n",
              "</table>\n",
              "<p>10 rows × 40 columns</p>\n",
              "</div>\n",
              "      <button class=\"colab-df-convert\" onclick=\"convertToInteractive('df-6c558296-f97b-4423-a322-cd8e1b5309cd')\"\n",
              "              title=\"Convert this dataframe to an interactive table.\"\n",
              "              style=\"display:none;\">\n",
              "        \n",
              "  <svg xmlns=\"http://www.w3.org/2000/svg\" height=\"24px\"viewBox=\"0 0 24 24\"\n",
              "       width=\"24px\">\n",
              "    <path d=\"M0 0h24v24H0V0z\" fill=\"none\"/>\n",
              "    <path d=\"M18.56 5.44l.94 2.06.94-2.06 2.06-.94-2.06-.94-.94-2.06-.94 2.06-2.06.94zm-11 1L8.5 8.5l.94-2.06 2.06-.94-2.06-.94L8.5 2.5l-.94 2.06-2.06.94zm10 10l.94 2.06.94-2.06 2.06-.94-2.06-.94-.94-2.06-.94 2.06-2.06.94z\"/><path d=\"M17.41 7.96l-1.37-1.37c-.4-.4-.92-.59-1.43-.59-.52 0-1.04.2-1.43.59L10.3 9.45l-7.72 7.72c-.78.78-.78 2.05 0 2.83L4 21.41c.39.39.9.59 1.41.59.51 0 1.02-.2 1.41-.59l7.78-7.78 2.81-2.81c.8-.78.8-2.07 0-2.86zM5.41 20L4 18.59l7.72-7.72 1.47 1.35L5.41 20z\"/>\n",
              "  </svg>\n",
              "      </button>\n",
              "      \n",
              "  <style>\n",
              "    .colab-df-container {\n",
              "      display:flex;\n",
              "      flex-wrap:wrap;\n",
              "      gap: 12px;\n",
              "    }\n",
              "\n",
              "    .colab-df-convert {\n",
              "      background-color: #E8F0FE;\n",
              "      border: none;\n",
              "      border-radius: 50%;\n",
              "      cursor: pointer;\n",
              "      display: none;\n",
              "      fill: #1967D2;\n",
              "      height: 32px;\n",
              "      padding: 0 0 0 0;\n",
              "      width: 32px;\n",
              "    }\n",
              "\n",
              "    .colab-df-convert:hover {\n",
              "      background-color: #E2EBFA;\n",
              "      box-shadow: 0px 1px 2px rgba(60, 64, 67, 0.3), 0px 1px 3px 1px rgba(60, 64, 67, 0.15);\n",
              "      fill: #174EA6;\n",
              "    }\n",
              "\n",
              "    [theme=dark] .colab-df-convert {\n",
              "      background-color: #3B4455;\n",
              "      fill: #D2E3FC;\n",
              "    }\n",
              "\n",
              "    [theme=dark] .colab-df-convert:hover {\n",
              "      background-color: #434B5C;\n",
              "      box-shadow: 0px 1px 3px 1px rgba(0, 0, 0, 0.15);\n",
              "      filter: drop-shadow(0px 1px 2px rgba(0, 0, 0, 0.3));\n",
              "      fill: #FFFFFF;\n",
              "    }\n",
              "  </style>\n",
              "\n",
              "      <script>\n",
              "        const buttonEl =\n",
              "          document.querySelector('#df-6c558296-f97b-4423-a322-cd8e1b5309cd button.colab-df-convert');\n",
              "        buttonEl.style.display =\n",
              "          google.colab.kernel.accessAllowed ? 'block' : 'none';\n",
              "\n",
              "        async function convertToInteractive(key) {\n",
              "          const element = document.querySelector('#df-6c558296-f97b-4423-a322-cd8e1b5309cd');\n",
              "          const dataTable =\n",
              "            await google.colab.kernel.invokeFunction('convertToInteractive',\n",
              "                                                     [key], {});\n",
              "          if (!dataTable) return;\n",
              "\n",
              "          const docLinkHtml = 'Like what you see? Visit the ' +\n",
              "            '<a target=\"_blank\" href=https://colab.research.google.com/notebooks/data_table.ipynb>data table notebook</a>'\n",
              "            + ' to learn more about interactive tables.';\n",
              "          element.innerHTML = '';\n",
              "          dataTable['output_type'] = 'display_data';\n",
              "          await google.colab.output.renderOutput(dataTable, element);\n",
              "          const docLink = document.createElement('div');\n",
              "          docLink.innerHTML = docLinkHtml;\n",
              "          element.appendChild(docLink);\n",
              "        }\n",
              "      </script>\n",
              "    </div>\n",
              "  </div>\n",
              "  "
            ]
          },
          "metadata": {},
          "execution_count": 18
        }
      ]
    },
    {
      "cell_type": "code",
      "source": [
        "#colonne année mise en format datetime et remplacement des valeurs manquantes par l'année 1900 suffisamment ancienne pour ne pas affecter les résultats d'analyse\n",
        "from datetime import datetime as dt \n",
        "df['annee']=pd.to_datetime(df['annee'], errors=\"coerce\").fillna(pd.Timestamp(\"1900\"))\n",
        "df['annee'] = df['annee'].dt.year\n",
        "df[\"annee\"].info()"
      ],
      "metadata": {
        "colab": {
          "base_uri": "https://localhost:8080/"
        },
        "id": "GqKn51iQGC8_",
        "outputId": "8c59a496-1bad-4e5b-93bd-1727e60c4524"
      },
      "execution_count": null,
      "outputs": [
        {
          "output_type": "stream",
          "name": "stdout",
          "text": [
            "<class 'pandas.core.series.Series'>\n",
            "RangeIndex: 20465 entries, 0 to 20464\n",
            "Series name: annee\n",
            "Non-Null Count  Dtype\n",
            "--------------  -----\n",
            "20465 non-null  int64\n",
            "dtypes: int64(1)\n",
            "memory usage: 160.0 KB\n"
          ]
        }
      ]
    },
    {
      "cell_type": "code",
      "source": [
        "df_top10K=df.head(10000)"
      ],
      "metadata": {
        "id": "cfqeWr2pFOh9"
      },
      "execution_count": null,
      "outputs": []
    },
    {
      "cell_type": "code",
      "source": [
        "#selection des éditeurs ayant 3 ou plus de jeux vidéos \n",
        "counts = df_top10K['editeur'].value_counts()\n",
        "selected_publishers = counts[counts >= 3].index\n",
        "df_top10K = df_top10K[df_top10K['editeur'].isin(selected_publishers)]"
      ],
      "metadata": {
        "id": "UmOZQdF-FThB"
      },
      "execution_count": null,
      "outputs": []
    },
    {
      "cell_type": "code",
      "source": [
        "df_top10K.info()\n"
      ],
      "metadata": {
        "colab": {
          "base_uri": "https://localhost:8080/"
        },
        "id": "QY4KmS7KFpiB",
        "outputId": "714bcd6a-e9e5-4027-e08b-963486a223cd"
      },
      "execution_count": null,
      "outputs": [
        {
          "output_type": "stream",
          "name": "stdout",
          "text": [
            "<class 'pandas.core.frame.DataFrame'>\n",
            "Int64Index: 9591 entries, 0 to 9999\n",
            "Data columns (total 40 columns):\n",
            " #   Column                         Non-Null Count  Dtype  \n",
            "---  ------                         --------------  -----  \n",
            " 0   jeu                            9591 non-null   object \n",
            " 1   Genre                          9591 non-null   object \n",
            " 2   nom_plateforme                 9591 non-null   object \n",
            " 3   nom_fabricant                  9591 non-null   object \n",
            " 4   editeur                        9591 non-null   object \n",
            " 5   developpeur                    9591 non-null   object \n",
            " 6   annee                          9591 non-null   int64  \n",
            " 7   ttl_sales                      9591 non-null   float64\n",
            " 8   dev_country                    9589 non-null   object \n",
            " 9   metacritic_summary             5820 non-null   object \n",
            " 10  metacritic_user_score          5820 non-null   float64\n",
            " 11  metacritic_score               5820 non-null   float64\n",
            " 12  jvc_summmary                   2866 non-null   object \n",
            " 13  jvc_user_score                 2160 non-null   float64\n",
            " 14  jvc_url                        2916 non-null   object \n",
            " 15  mixed_user_score               6092 non-null   float64\n",
            " 16  igdb_id                        7587 non-null   object \n",
            " 17  igdb_category                  7587 non-null   object \n",
            " 18  igdb_follows                   5677 non-null   float64\n",
            " 19  igdb_hypes                     1010 non-null   float64\n",
            " 20  igdb_franchise                 1403 non-null   object \n",
            " 21  igdb_platforms                 7501 non-null   object \n",
            " 22  igdb_genres                    7382 non-null   object \n",
            " 23  igdb_game_modes                6920 non-null   object \n",
            " 24  igdb_rating                    5890 non-null   float64\n",
            " 25  igdb_summary                   7461 non-null   object \n",
            " 26  igdb_themes                    6071 non-null   object \n",
            " 27  igdb_total_rating              6368 non-null   float64\n",
            " 28  igdb_url                       7587 non-null   object \n",
            " 29  igdb_age_content_descriptions  5538 non-null   object \n",
            " 30  igdb_age_rating_category       7089 non-null   object \n",
            " 31  igdb_age_rating_class          7089 non-null   object \n",
            " 32  igdb_developer_name            6857 non-null   object \n",
            " 33  igdb_developer_country         6022 non-null   object \n",
            " 34  igdb_publisher_name            6761 non-null   object \n",
            " 35  igdb_publisher_country         6226 non-null   object \n",
            " 36  igdb_websites_category         7519 non-null   object \n",
            " 37  igdb_websites_url              7519 non-null   object \n",
            " 38  twitch_id                      1583 non-null   float64\n",
            " 39  twitch_streams_count           1583 non-null   float64\n",
            "dtypes: float64(11), int64(1), object(28)\n",
            "memory usage: 3.0+ MB\n"
          ]
        }
      ]
    },
    {
      "cell_type": "code",
      "source": [
        "#split de la colonne igdb_age_rating pour ne garder que l'ESRB \n",
        "df_top10K['ESRB'] = df_top10K['igdb_age_rating_class'].str.split(',').str[0].apply(lambda x: x.strip() if str(x).startswith('ESRB') else pd.NaT)"
      ],
      "metadata": {
        "id": "ljAFJtfUIFLb"
      },
      "execution_count": null,
      "outputs": []
    },
    {
      "cell_type": "code",
      "source": [
        "df_top10K.columns"
      ],
      "metadata": {
        "colab": {
          "base_uri": "https://localhost:8080/"
        },
        "id": "ly1JHs6ZKT9B",
        "outputId": "df12b2a4-6240-4d54-a848-36b60ba3d06b"
      },
      "execution_count": null,
      "outputs": [
        {
          "output_type": "execute_result",
          "data": {
            "text/plain": [
              "Index(['jeu', 'Genre', 'nom_plateforme', 'nom_fabricant', 'editeur',\n",
              "       'developpeur', 'annee', 'ttl_sales', 'dev_country',\n",
              "       'metacritic_summary', 'metacritic_user_score', 'metacritic_score',\n",
              "       'jvc_summmary', 'jvc_user_score', 'jvc_url', 'mixed_user_score',\n",
              "       'igdb_id', 'igdb_category', 'igdb_follows', 'igdb_hypes',\n",
              "       'igdb_franchise', 'igdb_platforms', 'igdb_genres', 'igdb_game_modes',\n",
              "       'igdb_rating', 'igdb_summary', 'igdb_themes', 'igdb_total_rating',\n",
              "       'igdb_url', 'igdb_age_content_descriptions', 'igdb_age_rating_category',\n",
              "       'igdb_age_rating_class', 'igdb_developer_name',\n",
              "       'igdb_developer_country', 'igdb_publisher_name',\n",
              "       'igdb_publisher_country', 'igdb_websites_category', 'igdb_websites_url',\n",
              "       'twitch_id', 'twitch_streams_count', 'ESRB'],\n",
              "      dtype='object')"
            ]
          },
          "metadata": {},
          "execution_count": 24
        }
      ]
    },
    {
      "cell_type": "code",
      "source": [
        "#suppression de colonnes pour ne garder qu'un dataset de base (Genre, nom_plateforme, nom_fabricant, editeur, developpeur, année, ttl_sales, dev_country et ESRB et le reste des variables numériques)\n",
        "colonnes_a_supprimer=['metacritic_summary','metacritic_user_score', 'metacritic_score',\n",
        "       'jvc_summmary','igdb_id', 'igdb_category','igdb_franchise', 'igdb_platforms', 'igdb_genres', 'igdb_game_modes', 'igdb_summary', 'igdb_themes','igdb_url', 'igdb_age_content_descriptions', 'igdb_age_rating_category',\n",
        "       'igdb_age_rating_class', 'igdb_developer_name',\n",
        "       'igdb_developer_country', 'igdb_publisher_name',\n",
        "       'igdb_publisher_country', 'igdb_websites_category', 'igdb_websites_url',\n",
        "       'twitch_id', 'jvc_url','jeu']\n",
        "df_top10K = df_top10K.drop(columns=colonnes_a_supprimer)"
      ],
      "metadata": {
        "id": "yy-w88DeJjS9"
      },
      "execution_count": null,
      "outputs": []
    },
    {
      "cell_type": "code",
      "source": [
        "df_top10K.info()"
      ],
      "metadata": {
        "colab": {
          "base_uri": "https://localhost:8080/"
        },
        "id": "_PK2sLcmMM3M",
        "outputId": "f256630d-9b53-42d5-d182-f41cd0e4db47"
      },
      "execution_count": null,
      "outputs": [
        {
          "output_type": "stream",
          "name": "stdout",
          "text": [
            "<class 'pandas.core.frame.DataFrame'>\n",
            "Int64Index: 9591 entries, 0 to 9999\n",
            "Data columns (total 16 columns):\n",
            " #   Column                Non-Null Count  Dtype  \n",
            "---  ------                --------------  -----  \n",
            " 0   Genre                 9591 non-null   object \n",
            " 1   nom_plateforme        9591 non-null   object \n",
            " 2   nom_fabricant         9591 non-null   object \n",
            " 3   editeur               9591 non-null   object \n",
            " 4   developpeur           9591 non-null   object \n",
            " 5   annee                 9591 non-null   int64  \n",
            " 6   ttl_sales             9591 non-null   float64\n",
            " 7   dev_country           9589 non-null   object \n",
            " 8   jvc_user_score        2160 non-null   float64\n",
            " 9   mixed_user_score      6092 non-null   float64\n",
            " 10  igdb_follows          5677 non-null   float64\n",
            " 11  igdb_hypes            1010 non-null   float64\n",
            " 12  igdb_rating           5890 non-null   float64\n",
            " 13  igdb_total_rating     6368 non-null   float64\n",
            " 14  twitch_streams_count  1583 non-null   float64\n",
            " 15  ESRB                  5653 non-null   object \n",
            "dtypes: float64(8), int64(1), object(7)\n",
            "memory usage: 1.2+ MB\n"
          ]
        }
      ]
    },
    {
      "cell_type": "code",
      "source": [
        "# encoder les variables catégorielles\n",
        "cat_vars = [\"Genre\", \"nom_plateforme\", \"nom_fabricant\", \"editeur\", \"developpeur\", \"dev_country\", \"ESRB\"]\n",
        "df_top10K_encoded = pd.get_dummies(df_top10K, columns=cat_vars)"
      ],
      "metadata": {
        "id": "PFUitPcWND8x"
      },
      "execution_count": null,
      "outputs": []
    },
    {
      "cell_type": "code",
      "source": [
        "df_top10K_encoded.isna().sum()"
      ],
      "metadata": {
        "colab": {
          "base_uri": "https://localhost:8080/"
        },
        "id": "CQs8rkNePngZ",
        "outputId": "f476423b-e9b9-4c48-9b29-96429dbe1d22"
      },
      "execution_count": null,
      "outputs": [
        {
          "output_type": "execute_result",
          "data": {
            "text/plain": [
              "annee                  0\n",
              "ttl_sales              0\n",
              "jvc_user_score      7431\n",
              "mixed_user_score    3499\n",
              "igdb_follows        3914\n",
              "                    ... \n",
              "ESRB_ESRB_E10          0\n",
              "ESRB_ESRB_EC           0\n",
              "ESRB_ESRB_M            0\n",
              "ESRB_ESRB_RP           0\n",
              "ESRB_ESRB_T            0\n",
              "Length: 1705, dtype: int64"
            ]
          },
          "metadata": {},
          "execution_count": 28
        }
      ]
    },
    {
      "cell_type": "code",
      "source": [
        "#suppression des valeurs manquantes \n",
        "df_top10K_encoded.dropna(inplace=True)"
      ],
      "metadata": {
        "id": "zcYhCIufP9VB"
      },
      "execution_count": null,
      "outputs": []
    },
    {
      "cell_type": "code",
      "source": [
        "df_top10K_encoded.isna().sum().sum()"
      ],
      "metadata": {
        "colab": {
          "base_uri": "https://localhost:8080/"
        },
        "id": "qRdii15KRAzH",
        "outputId": "8496ed5e-b785-415b-95fb-601fef2c4211"
      },
      "execution_count": null,
      "outputs": [
        {
          "output_type": "execute_result",
          "data": {
            "text/plain": [
              "0"
            ]
          },
          "metadata": {},
          "execution_count": 30
        }
      ]
    },
    {
      "cell_type": "code",
      "source": [
        "#Librairies ML\n",
        "from sklearn.model_selection import train_test_split\n",
        "from sklearn.linear_model import Ridge\n",
        "from sklearn.metrics import mean_absolute_error"
      ],
      "metadata": {
        "id": "KjKtJUsrN4-t"
      },
      "execution_count": null,
      "outputs": []
    },
    {
      "cell_type": "code",
      "source": [
        "#séparation des données \n",
        "X_train, X_test, y_train, y_test = train_test_split(df_top10K_encoded.drop(\"ttl_sales\", axis=1), df_top10K_encoded[\"ttl_sales\"], test_size=0.2, random_state=42)\n",
        "#entrainement du modèle qui utilise la régression Ridge \n",
        "#(technique de régularisation qui ajoute une pénalité L2 à la fonction de coût pour limiter la magnitude des coefficients de régression \n",
        "#et éviter le surajustement du modèle)\n",
        "# modèle de régression ridge\n",
        "ridge = Ridge(alpha=1.0)\n",
        "\n",
        "# entraînemeht du  modèle \n",
        "ridge.fit(X_train, y_train)\n",
        "\n",
        "# évaluation perf \n",
        "y_pred = ridge.predict(X_test)\n",
        "mae = mean_absolute_error(y_test, y_pred)\n",
        "print(\"MAE:\", mae)"
      ],
      "metadata": {
        "colab": {
          "base_uri": "https://localhost:8080/"
        },
        "id": "nvwcBWdHOOF3",
        "outputId": "f4195e48-f1e5-445c-b419-d37cdd9293ea"
      },
      "execution_count": null,
      "outputs": [
        {
          "output_type": "stream",
          "name": "stdout",
          "text": [
            "MAE: 1.527209318118102\n"
          ]
        }
      ]
    },
    {
      "cell_type": "code",
      "source": [
        "#les prédictions en moyenne ont une erreur absolue de 1,5272 unité de la variable cible ttls_sales par rapport aux valeurs réelles des données de test."
      ],
      "metadata": {
        "id": "7Grfza-oxCte"
      },
      "execution_count": null,
      "outputs": []
    }
  ]
}